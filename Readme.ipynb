{
 "cells": [
  {
   "cell_type": "markdown",
   "metadata": {},
   "source": [
    "## Интрукция по эксплуатации"
   ]
  },
  {
   "cell_type": "code",
   "execution_count": 1,
   "metadata": {},
   "outputs": [
    {
     "name": "stderr",
     "output_type": "stream",
     "text": [
      "D:\\Working\\Anaconda3\\lib\\site-packages\\gensim\\utils.py:1212: UserWarning: detected Windows; aliasing chunkize to chunkize_serial\n",
      "  warnings.warn(\"detected Windows; aliasing chunkize to chunkize_serial\")\n",
      "D:\\Working\\Anaconda3\\lib\\site-packages\\sklearn\\cross_validation.py:41: DeprecationWarning: This module was deprecated in version 0.18 in favor of the model_selection module into which all the refactored classes and functions are moved. Also note that the interface of the new CV iterators are different from that of this module. This module will be removed in 0.20.\n",
      "  \"This module will be removed in 0.20.\", DeprecationWarning)\n",
      "D:\\Working\\Anaconda3\\lib\\site-packages\\sklearn\\grid_search.py:42: DeprecationWarning: This module was deprecated in version 0.18 in favor of the model_selection module into which all the refactored classes and functions are moved. This module will be removed in 0.20.\n",
      "  DeprecationWarning)\n"
     ]
    }
   ],
   "source": [
    "# Выбери нужные\n",
    "from sklearn.linear_model import LogisticRegression\n",
    "# from sklearn.tree import DecisionTreeClassifier\n",
    "# from sklearn.naive_bayes import MultinomialNB\n",
    "# from sklearn.ensemble import RandomForestClassifier\n",
    "# from sklearn.neural_network import MLPClassifier\n",
    "# from sklearn.svm import SVC\n",
    "\n",
    "from Worker import Worker # обязательно\n",
    "\n",
    "%load_ext autoreload\n",
    "%autoreload 2"
   ]
  },
  {
   "cell_type": "code",
   "execution_count": null,
   "metadata": {},
   "outputs": [],
   "source": [
    "# Гиреппараметры задаются в виде словаря.\n",
    "# На месте значения обязательно стоит список (допускается один элемент и более).\n",
    "parameters_lr = {#'class_weight':['balanced'],\n",
    "                 'C':[0.01, 0.01, 1.0, 10.0],\n",
    "             'solver':['liblinear'], #newton-cg’, ‘sag’, ‘saga’ and ‘lbfgs’\n",
    "             'tol':[5e-4, 1e-6],\n",
    "             'random_state':[42]}"
   ]
  },
  {
   "cell_type": "markdown",
   "metadata": {},
   "source": [
    "Обучение классификатора"
   ]
  },
  {
   "cell_type": "code",
   "execution_count": null,
   "metadata": {
    "collapsed": true
   },
   "outputs": [
    {
     "name": "stdout",
     "output_type": "stream",
     "text": [
      "Fitting 3 folds for each of 8 candidates, totalling 24 fits\n"
     ]
    },
    {
     "name": "stderr",
     "output_type": "stream",
     "text": [
      "[Parallel(n_jobs=3)]: Done   1 tasks      | elapsed:  4.2min\n",
      "[Parallel(n_jobs=3)]: Done   2 tasks      | elapsed:  4.3min\n",
      "[Parallel(n_jobs=3)]: Done   3 tasks      | elapsed:  4.3min\n",
      "[Parallel(n_jobs=3)]: Done   4 tasks      | elapsed:  9.4min\n",
      "[Parallel(n_jobs=3)]: Done   5 tasks      | elapsed:  9.4min\n",
      "[Parallel(n_jobs=3)]: Done   6 tasks      | elapsed:  9.4min\n",
      "[Parallel(n_jobs=3)]: Done   7 tasks      | elapsed: 13.7min\n",
      "[Parallel(n_jobs=3)]: Done   8 tasks      | elapsed: 13.9min\n",
      "[Parallel(n_jobs=3)]: Done   9 tasks      | elapsed: 13.9min\n",
      "[Parallel(n_jobs=3)]: Done  10 tasks      | elapsed: 18.9min\n",
      "[Parallel(n_jobs=3)]: Done  11 tasks      | elapsed: 19.0min\n",
      "[Parallel(n_jobs=3)]: Done  12 tasks      | elapsed: 19.0min\n",
      "[Parallel(n_jobs=3)]: Done  13 tasks      | elapsed: 24.0min\n",
      "[Parallel(n_jobs=3)]: Done  14 tasks      | elapsed: 24.1min\n",
      "[Parallel(n_jobs=3)]: Done  15 tasks      | elapsed: 24.3min\n",
      "[Parallel(n_jobs=3)]: Done  16 tasks      | elapsed: 29.9min\n",
      "[Parallel(n_jobs=3)]: Done  17 tasks      | elapsed: 30.1min\n",
      "[Parallel(n_jobs=3)]: Done  18 tasks      | elapsed: 30.4min\n",
      "[Parallel(n_jobs=3)]: Done  19 tasks      | elapsed: 35.2min\n",
      "[Parallel(n_jobs=3)]: Done  21 out of  24 | elapsed: 35.5min remaining:  5.1min\n",
      "[Parallel(n_jobs=3)]: Done  24 out of  24 | elapsed: 41.5min finished\n"
     ]
    },
    {
     "name": "stdout",
     "output_type": "stream",
     "text": [
      "For all\n",
      "\tmicro 0.0666666666667\t0.0666666666667\t1.0\t0.125\n",
      "\tmacro0.0666666666667\t0.0666666666667\t1.0\t0.121850662026\n",
      "\n",
      "For 2\n",
      "\tmicro 0.919663310777\t0.448737415415\t0.89747483083\t0.598316553887\n",
      "\tmacro0.919663310777\t0.4260124119\t0.85258750608\t0.56328770844\n",
      "\n",
      "For 5\n",
      "\tmicro 0.730622214887\t0.19593332233\t0.979666611652\t0.326555537217\n",
      "\tmacro0.730622214887\t0.184191195996\t0.966662727849\t0.3042368679\n",
      "\n",
      "For 1\n",
      "\tmicro 0.968549265555\t0.764119491665\t0.764119491665\t0.764119491665\n",
      "\tmacro0.968549265555\t0.739072950607\t0.692967146968\t0.711370811236\n",
      "\n",
      "For 3\n",
      "\tmicro 0.859351928261\t0.315046487319\t0.945139461957\t0.472569730979\n",
      "\tmacro0.859351928261\t0.300251224449\t0.915849624629\t0.445114984618\n",
      "\n",
      "Fitting 3 folds for each of 8 candidates, totalling 24 fits\n"
     ]
    },
    {
     "name": "stderr",
     "output_type": "stream",
     "text": [
      "[Parallel(n_jobs=3)]: Done   1 tasks      | elapsed:  2.4min\n",
      "[Parallel(n_jobs=3)]: Done   2 tasks      | elapsed:  2.5min\n",
      "[Parallel(n_jobs=3)]: Done   3 tasks      | elapsed:  2.6min\n",
      "[Parallel(n_jobs=3)]: Done   4 tasks      | elapsed:  5.2min\n",
      "[Parallel(n_jobs=3)]: Done   5 tasks      | elapsed:  5.4min\n",
      "[Parallel(n_jobs=3)]: Done   6 tasks      | elapsed:  5.5min\n"
     ]
    }
   ],
   "source": [
    "worker = Worker()\n",
    "# Указанная папка создастся автоматически (если еще не существует). В нее будут сохраняться все созданные файлы.\n",
    "worker.set_res_folder('./temp_test')\n",
    "# Указывает train и test или просто train. Если указан один файл, он будет разбит (по умолчанию коэф. разбиения 0.2).\n",
    "worker.load_data('.././for_det_test/w2v_vectors_167k_sum50_v1_3_6_18.csv') \n",
    "# Загрузка готовой модели w2v.\n",
    "worker.load_w2v('.././for_rgnti_update(26.03.18)/w2v_model_50_for_rgnti_update_k_v1_25_3_18.model')\n",
    "# Сеттреы проверяют корректность введенных данных.\n",
    "worker.set_lang('ru')\n",
    "worker.set_conv_type('sum')\n",
    "# Обучение моделей с перебором гиперпараметров. Если набор гиперпараметорв только один, поиск по сетке не проводится.\n",
    "# Файл с информацией по эксперименту будет создан в любом случае.\n",
    "for i in ['subj', 'ipv']:#, 'rgnti']:\n",
    "    worker.set_rubr_id(i)\n",
    "    worker.search_for_clf(LogisticRegression(), parameters_lr, description='lr')\n",
    "    worker.search_for_clf(LogisticRegression(), parameters_lr, description='lr_onevsall', OneVsAll=True)"
   ]
  },
  {
   "cell_type": "markdown",
   "metadata": {},
   "source": [
    "Создание модели w2v"
   ]
  },
  {
   "cell_type": "code",
   "execution_count": 6,
   "metadata": {},
   "outputs": [],
   "source": [
    "worker.data_test"
   ]
  },
  {
   "cell_type": "code",
   "execution_count": 3,
   "metadata": {
    "code_folding": []
   },
   "outputs": [
    {
     "data": {
      "text/plain": [
       "True"
      ]
     },
     "execution_count": 3,
     "metadata": {},
     "output_type": "execute_result"
    }
   ],
   "source": [
    "worker = Worker()\n",
    "worker.set_res_folder('./temp_test')\n",
    "worker.load_data('../Samples/CLEAR_SampleEng2/SampleEng2learn_clear.txt',\n",
    "                 '../Samples/CLEAR_SampleEng2/SampleEng2test_clear.txt')\n",
    "# Для скорости теста\n",
    "worker.data_train = worker.data_train[:5000]\n",
    "worker.data_test = worker.data_test[:1000]\n",
    "# если не предварительно не установить язык, он будет запрошен в процессе работы\n",
    "worker.set_lang('en')\n",
    "# по умолчанию размерность 50\n",
    "worker.create_w2v_model(100)"
   ]
  },
  {
   "cell_type": "markdown",
   "metadata": {},
   "source": [
    "Создание векторов w2v"
   ]
  },
  {
   "cell_type": "code",
   "execution_count": 5,
   "metadata": {},
   "outputs": [
    {
     "data": {
      "text/plain": [
       "'sum 100'"
      ]
     },
     "metadata": {},
     "output_type": "display_data"
    },
    {
     "data": {
      "text/plain": [
       "'900/986'"
      ]
     },
     "metadata": {},
     "output_type": "display_data"
    },
    {
     "data": {
      "text/plain": [
       "True"
      ]
     },
     "execution_count": 5,
     "metadata": {},
     "output_type": "execute_result"
    }
   ],
   "source": [
    "worker = Worker()\n",
    "worker.set_res_folder('./temp_test')\n",
    "# аналогично инструкции для классификаторов, но грузим файлы с предобработанными текстами.\n",
    "worker.load_data('../Samples/CLEAR_SampleEng2/SampleEng2learn_clear.txt',\n",
    "                 '../Samples/CLEAR_SampleEng2/SampleEng2test_clear.txt')\n",
    "# Для скорости теста\n",
    "worker.data_train = worker.data_train[:5000]\n",
    "worker.data_test = worker.data_test[:1000]\n",
    "worker.load_w2v('./temp_test/w2v_model_100_en_6k_v1_17_11_18.model')\n",
    "# data_cleaning разбивает несколько ответов для одного текста на строки. \n",
    "# После ее работы в Worker обновляются данные, теперь у него внутри данные с одним ответом.\n",
    "# В дальнейшем для создания векторов word2vec надо брать именно эти файлы (single_theme).\n",
    "worker.data_cleaning()\n",
    "# если не задать тип свертки заранее, его попросят ввести в консоль\n",
    "worker.set_conv_type('sum') \n",
    "# Для создания векторов просто вызываешь функцию ниже, она создаст векторы и заменит данные, которые сейчас подгружены.\n",
    "worker.create_w2v_vectors()"
   ]
  }
 ],
 "metadata": {
  "anaconda-cloud": {},
  "kernelspec": {
   "display_name": "Python 3",
   "language": "python",
   "name": "python3"
  },
  "language_info": {
   "codemirror_mode": {
    "name": "ipython",
    "version": 3
   },
   "file_extension": ".py",
   "mimetype": "text/x-python",
   "name": "python",
   "nbconvert_exporter": "python",
   "pygments_lexer": "ipython3",
   "version": "3.6.5"
  }
 },
 "nbformat": 4,
 "nbformat_minor": 1
}
