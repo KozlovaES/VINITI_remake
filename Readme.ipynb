{
 "cells": [
  {
   "cell_type": "markdown",
   "metadata": {},
   "source": [
    "## Интрукция по эксплуатации"
   ]
  },
  {
   "cell_type": "code",
   "execution_count": 4,
   "metadata": {
    "collapsed": false
   },
   "outputs": [
    {
     "name": "stdout",
     "output_type": "stream",
     "text": [
      "The autoreload extension is already loaded. To reload it, use:\n",
      "  %reload_ext autoreload\n"
     ]
    }
   ],
   "source": [
    "import pandas as pd\n",
    "import numpy as np\n",
    "import matplotlib.pyplot as plt\n",
    "\n",
    "from IPython.display import display, clear_output\n",
    "from sklearn.externals import joblib\n",
    "from gensim.models import Word2Vec\n",
    "from gensim.models.word2vec import LineSentence\n",
    "\n",
    "import time\n",
    "import datetime\n",
    "from sys import stdout# import sys\n",
    "import os\n",
    "from itertools import product\n",
    "from itertools import zip_longest\n",
    "\n",
    "from sklearn.cross_validation import train_test_split\n",
    "from sklearn.cross_validation import StratifiedKFold\n",
    "from sklearn.grid_search import GridSearchCV\n",
    "from sklearn.multiclass import OneVsRestClassifier\n",
    "\n",
    "from sklearn.linear_model import LogisticRegression\n",
    "from sklearn.tree import DecisionTreeClassifier\n",
    "from sklearn.naive_bayes import MultinomialNB\n",
    "from sklearn.ensemble import RandomForestClassifier\n",
    "from sklearn.neural_network import MLPClassifier\n",
    "from sklearn.svm import SVC\n",
    "\n",
    "from sklearn.metrics import accuracy_score, precision_score, recall_score, f1_score\n",
    "from sklearn.metrics import confusion_matrix\n",
    "\n",
    "RANDOM_SEED = 42\n",
    "\n",
    "# from VINITI_remake.Codes_hepler import Codes_helper #Обязательно нужен \n",
    "# from VINITI_remake.Worker import Worker \n",
    "from Worker import Worker \n",
    "\n",
    "%load_ext autoreload\n",
    "%autoreload 2"
   ]
  },
  {
   "cell_type": "code",
   "execution_count": 1,
   "metadata": {
    "collapsed": false
   },
   "outputs": [
    {
     "name": "stderr",
     "output_type": "stream",
     "text": [
      "E:\\Other\\Anaconda3\\lib\\site-packages\\gensim\\utils.py:855: UserWarning: detected Windows; aliasing chunkize to chunkize_serial\n",
      "  warnings.warn(\"detected Windows; aliasing chunkize to chunkize_serial\")\n",
      "E:\\Other\\Anaconda3\\lib\\site-packages\\sklearn\\cross_validation.py:44: DeprecationWarning: This module was deprecated in version 0.18 in favor of the model_selection module into which all the refactored classes and functions are moved. Also note that the interface of the new CV iterators are different from that of this module. This module will be removed in 0.20.\n",
      "  \"This module will be removed in 0.20.\", DeprecationWarning)\n",
      "E:\\Other\\Anaconda3\\lib\\site-packages\\sklearn\\grid_search.py:43: DeprecationWarning: This module was deprecated in version 0.18 in favor of the model_selection module into which all the refactored classes and functions are moved. This module will be removed in 0.20.\n",
      "  DeprecationWarning)\n"
     ]
    }
   ],
   "source": [
    "# Выбери нужные\n",
    "from sklearn.linear_model import LogisticRegression\n",
    "# from sklearn.tree import DecisionTreeClassifier\n",
    "# from sklearn.naive_bayes import MultinomialNB\n",
    "# from sklearn.ensemble import RandomForestClassifier\n",
    "# from sklearn.neural_network import MLPClassifier\n",
    "# from sklearn.svm import SVC\n",
    "\n",
    "from Worker import Worker # обязательно\n",
    "\n",
    "%load_ext autoreload\n",
    "%autoreload 2"
   ]
  },
  {
   "cell_type": "code",
   "execution_count": 2,
   "metadata": {
    "collapsed": false
   },
   "outputs": [],
   "source": [
    "# Гиреппараметры задаются в виде словаря.\n",
    "# На месте значения обязательно стоит список (допускается один элемент и более).\n",
    "parameters_lr = {#'class_weight':['balanced'],\n",
    "                 'C':[0.01, 0.01, 1.0, 10.0],\n",
    "             'solver':['liblinear'], #newton-cg’, ‘sag’, ‘saga’ and ‘lbfgs’\n",
    "             'tol':[5e-4, 1e-6],\n",
    "             'random_state':[42]}"
   ]
  },
  {
   "cell_type": "code",
   "execution_count": null,
   "metadata": {
    "collapsed": false
   },
   "outputs": [
    {
     "name": "stdout",
     "output_type": "stream",
     "text": [
      "Fitting 3 folds for each of 8 candidates, totalling 24 fits\n"
     ]
    },
    {
     "name": "stderr",
     "output_type": "stream",
     "text": [
      "[Parallel(n_jobs=3)]: Done   1 tasks      | elapsed:  4.2min\n",
      "[Parallel(n_jobs=3)]: Done   2 tasks      | elapsed:  4.3min\n",
      "[Parallel(n_jobs=3)]: Done   3 tasks      | elapsed:  4.3min\n",
      "[Parallel(n_jobs=3)]: Done   4 tasks      | elapsed:  9.4min\n",
      "[Parallel(n_jobs=3)]: Done   5 tasks      | elapsed:  9.4min\n",
      "[Parallel(n_jobs=3)]: Done   6 tasks      | elapsed:  9.4min\n",
      "[Parallel(n_jobs=3)]: Done   7 tasks      | elapsed: 13.7min\n",
      "[Parallel(n_jobs=3)]: Done   8 tasks      | elapsed: 13.9min\n",
      "[Parallel(n_jobs=3)]: Done   9 tasks      | elapsed: 13.9min\n",
      "[Parallel(n_jobs=3)]: Done  10 tasks      | elapsed: 18.9min\n",
      "[Parallel(n_jobs=3)]: Done  11 tasks      | elapsed: 19.0min\n",
      "[Parallel(n_jobs=3)]: Done  12 tasks      | elapsed: 19.0min\n",
      "[Parallel(n_jobs=3)]: Done  13 tasks      | elapsed: 24.0min\n",
      "[Parallel(n_jobs=3)]: Done  14 tasks      | elapsed: 24.1min\n",
      "[Parallel(n_jobs=3)]: Done  15 tasks      | elapsed: 24.3min\n",
      "[Parallel(n_jobs=3)]: Done  16 tasks      | elapsed: 29.9min\n",
      "[Parallel(n_jobs=3)]: Done  17 tasks      | elapsed: 30.1min\n",
      "[Parallel(n_jobs=3)]: Done  18 tasks      | elapsed: 30.4min\n",
      "[Parallel(n_jobs=3)]: Done  19 tasks      | elapsed: 35.2min\n",
      "[Parallel(n_jobs=3)]: Done  21 out of  24 | elapsed: 35.5min remaining:  5.1min\n",
      "[Parallel(n_jobs=3)]: Done  24 out of  24 | elapsed: 41.5min finished\n"
     ]
    },
    {
     "name": "stdout",
     "output_type": "stream",
     "text": [
      "For all\n",
      "\tmicro 0.0666666666667\t0.0666666666667\t1.0\t0.125\n",
      "\tmacro0.0666666666667\t0.0666666666667\t1.0\t0.121850662026\n",
      "\n",
      "For 2\n",
      "\tmicro 0.919663310777\t0.448737415415\t0.89747483083\t0.598316553887\n",
      "\tmacro0.919663310777\t0.4260124119\t0.85258750608\t0.56328770844\n",
      "\n",
      "For 5\n",
      "\tmicro 0.730622214887\t0.19593332233\t0.979666611652\t0.326555537217\n",
      "\tmacro0.730622214887\t0.184191195996\t0.966662727849\t0.3042368679\n",
      "\n",
      "For 1\n",
      "\tmicro 0.968549265555\t0.764119491665\t0.764119491665\t0.764119491665\n",
      "\tmacro0.968549265555\t0.739072950607\t0.692967146968\t0.711370811236\n",
      "\n",
      "For 3\n",
      "\tmicro 0.859351928261\t0.315046487319\t0.945139461957\t0.472569730979\n",
      "\tmacro0.859351928261\t0.300251224449\t0.915849624629\t0.445114984618\n",
      "\n",
      "Fitting 3 folds for each of 8 candidates, totalling 24 fits\n"
     ]
    },
    {
     "name": "stderr",
     "output_type": "stream",
     "text": [
      "[Parallel(n_jobs=3)]: Done   1 tasks      | elapsed:  2.4min\n",
      "[Parallel(n_jobs=3)]: Done   2 tasks      | elapsed:  2.5min\n",
      "[Parallel(n_jobs=3)]: Done   3 tasks      | elapsed:  2.6min\n",
      "[Parallel(n_jobs=3)]: Done   4 tasks      | elapsed:  5.2min\n",
      "[Parallel(n_jobs=3)]: Done   5 tasks      | elapsed:  5.4min\n",
      "[Parallel(n_jobs=3)]: Done   6 tasks      | elapsed:  5.5min\n"
     ]
    }
   ],
   "source": [
    "worker = Worker()\n",
    "# Указанная папка создастся автоматически (если еще не существует). В нее будут сохраняться все созданные файлы.\n",
    "worker.set_res_folder('./temp_test')\n",
    "# Указывает train и test или просто train. Если указан один файл, он будет разбит (по умолчанию коэф. разбиения 0.2).\n",
    "worker.load_data('.././for_det_test/w2v_vectors_167k_sum50_v1_3_6_18.csv') \n",
    "# Загрузка готовой модели w2v.\n",
    "worker.load_w2v('.././for_rgnti_update(26.03.18)/w2v_model_50_for_rgnti_update_k_v1_25_3_18.model')\n",
    "# Сеттреы проверяют корректность введенных данных.\n",
    "worker.set_lang('ru')\n",
    "worker.set_conv_type('sum')\n",
    "# Обучение моделей с перебором гиперпараметров. Если набор гиперпараметорв только один, поиск по сетке не проводится.\n",
    "# Файл с информацией по эксперименту будет создан в любом случае.\n",
    "for i in ['subj', 'ipv']:#, 'rgnti']:\n",
    "    worker.set_rubr_id(i)\n",
    "    worker.search_for_clf(LogisticRegression(), parameters_lr, description='lr')\n",
    "    worker.search_for_clf(LogisticRegression(), parameters_lr, description='lr_onevsall', OneVsAll=True)"
   ]
  }
 ],
 "metadata": {
  "anaconda-cloud": {},
  "kernelspec": {
   "display_name": "Python [default]",
   "language": "python",
   "name": "python3"
  },
  "language_info": {
   "codemirror_mode": {
    "name": "ipython",
    "version": 3
   },
   "file_extension": ".py",
   "mimetype": "text/x-python",
   "name": "python",
   "nbconvert_exporter": "python",
   "pygments_lexer": "ipython3",
   "version": "3.5.2"
  }
 },
 "nbformat": 4,
 "nbformat_minor": 1
}
